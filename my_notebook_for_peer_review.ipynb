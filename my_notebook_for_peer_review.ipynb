{
 "cells": [
  {
   "cell_type": "markdown",
   "metadata": {},
   "source": [
    "# My Jupyter Notebook on IBM Watson Studio"
   ]
  },
  {
   "cell_type": "markdown",
   "metadata": {},
   "source": [
    "**Lars Hoegner**\r\n",
    "\r\n",
    "Mechanical engineer and machine learning enthusiast"
   ]
  },
  {
   "cell_type": "markdown",
   "metadata": {},
   "source": [
    "*Data is everywhere these days. More and more connected devices are generating huge amounts of data. Data science and machine learning can help us as humans make better data-driven decisions, as sophisticated algorithms are able to identify patterns and guide our way through the big data landscape.*"
   ]
  },
  {
   "cell_type": "markdown",
   "metadata": {},
   "source": [
    "### Compute the sum of an arbitrary number of values"
   ]
  },
  {
   "cell_type": "code",
   "execution_count": 6,
   "metadata": {},
   "outputs": [
    {
     "name": "stdout",
     "output_type": "stream",
     "text": [
      "5050\n"
     ]
    }
   ],
   "source": [
    "import numpy as np\r\n",
    "\r\n",
    "def sum(*args):\r\n",
    "    '''\r\n",
    "    compute the sum of an arbitrary number of values\r\n",
    "\r\n",
    "    Parameters\r\n",
    "    -------------\r\n",
    "    *args: int or float\r\n",
    "        values to be summed up\r\n",
    "    \r\n",
    "    Returns\r\n",
    "    -------------\r\n",
    "    sum of values\r\n",
    "    '''\r\n",
    "\r\n",
    "    rlt = 0\r\n",
    "    for arg in args:\r\n",
    "        try:\r\n",
    "            rlt += arg\r\n",
    "        except:\r\n",
    "            raise(TypeError('Use integer and floats only!'))\r\n",
    "    \r\n",
    "    return(rlt)\r\n",
    "\r\n",
    "x = np.arange(1,101)\r\n",
    "print(sum(*x))\r\n",
    "\r\n",
    "# print(sum(1,2,'3',4,5,6,7,8))"
   ]
  },
  {
   "cell_type": "markdown",
   "metadata": {},
   "source": [
    "## Horizontal rule\r\n",
    "_________________________\r\n",
    "\r\n",
    "## bulleted list\r\n",
    "* foo \r\n",
    "  * foofoo\r\n",
    "  * foobar\r\n",
    "* bar\r\n",
    "  * barfoo\r\n",
    "  * barbar\r\n",
    "\r\n",
    "## numbered list\r\n",
    "1. foo\r\n",
    "2. bar\r\n",
    "3. foo bar\r\n",
    "\r\n",
    "## tables\r\n",
    "\r\n",
    "| foo | bar | foobar  |\r\n",
    "|-----|-----|--------:|\r\n",
    "| 1   | 2   | 1.123 |\r\n",
    "| 2   | 3   | 2.123 |\r\n",
    "\r\n",
    "## Hyperlink\r\n",
    "[Wikipedia: Machine learning](https://en.wikipedia.org/wiki/Machine_learning)\r\n",
    "\r\n",
    "## images\r\n",
    "<figure>\r\n",
    "<img src='https://upload.wikimedia.org/wikipedia/commons/f/fe/Kernel_Machine.svg' alt='missing figure' width='500'>\r\n",
    "<figcaption>image taken from https://upload.wikimedia.org/wikipedia/commons/f/fe/Kernel_Machine.svg<figcaption>\r\n",
    "</figure>\r\n",
    "\r\n",
    "## code/syntax highlighting\r\n",
    "\r\n",
    "```python\r\n",
    "import numpy as np\r\n",
    "\r\n",
    "def sum(*args):\r\n",
    "    '''\r\n",
    "    compute the sum of an arbitrary number of values\r\n",
    "\r\n",
    "    Parameters\r\n",
    "    -------------\r\n",
    "    *args: int or float\r\n",
    "        values to be summed up\r\n",
    "    \r\n",
    "    Returns\r\n",
    "    -------------\r\n",
    "    sum of values\r\n",
    "    '''\r\n",
    "\r\n",
    "    rlt = 0\r\n",
    "    for arg in args:\r\n",
    "        try:\r\n",
    "            rlt += arg\r\n",
    "        except:\r\n",
    "            raise(TypeError('Use integer and floats only!'))\r\n",
    "    \r\n",
    "    return(rlt)\r\n",
    "\r\n",
    "x = np.arange(1,101)\r\n",
    "print(sum(*x))\r\n",
    "```\r\n",
    "\r\n",
    "## blocked quotes\r\n",
    "\r\n",
    "> All models are wrong, but some are useful.\r\n",
    ">\r\n",
    "> -- <cite>George Box</cite>\r\n",
    "\r\n",
    "## strikethrough\r\n",
    "\r\n",
    "According to George Box, all models are ~~correct~~ wrong.\r\n"
   ]
  }
 ],
 "metadata": {
  "kernelspec": {
   "display_name": "Python 3.8.4 64-bit",
   "metadata": {
    "interpreter": {
     "hash": "2006dc723c1314f931dacff5770404e885d5e6c6b7f1b8904144fe93ba9d5ac8"
    }
   },
   "name": "python3"
  },
  "language_info": {
   "codemirror_mode": {
    "name": "ipython",
    "version": 3
   },
   "file_extension": ".py",
   "mimetype": "text/x-python",
   "name": "python",
   "nbconvert_exporter": "python",
   "pygments_lexer": "ipython3",
   "version": "3.8.4"
  },
  "orig_nbformat": 2
 },
 "nbformat": 4,
 "nbformat_minor": 2
}