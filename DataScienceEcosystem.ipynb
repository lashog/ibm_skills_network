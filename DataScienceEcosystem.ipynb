{
 "cells": [
  {
   "cell_type": "markdown",
   "metadata": {},
   "source": [
    "# Data Science Tools and Ecosystem"
   ]
  },
  {
   "cell_type": "markdown",
   "metadata": {},
   "source": [
    "## Author\r\n",
    "\r\n",
    "lashog"
   ]
  },
  {
   "cell_type": "markdown",
   "metadata": {},
   "source": [
    "## Introduction\r\n",
    "\r\n",
    "This is a jupyter notebook, created for peer-reviewed final assignment. \r\n",
    "In this final assignment, we will:\r\n",
    "- Create a Jupyter Notebook\r\n",
    "- Insert code and markdown cells\r\n",
    "- Share your notebook through GitHub"
   ]
  },
  {
   "cell_type": "markdown",
   "metadata": {},
   "source": [
    "## Objectives\r\n",
    "\r\n",
    "The **objectives** of this notebook are:\r\n",
    "- complete the peer-reviewed assignment\r\n",
    "- list popular data science languages\r\n",
    "- list open source development environments\r\n",
    "- demonstrate the usage of markdown cells in jupyter notebooks\r\n",
    "- demonstrate the usage of code cells (python) in jupyter notebooks"
   ]
  },
  {
   "cell_type": "markdown",
   "metadata": {},
   "source": [
    "## Languages \r\n",
    "\r\n",
    "Some of the popular languages that Data Scientists use are:\r\n",
    "1. python\r\n",
    "2. R\r\n",
    "3. julia\r\n",
    "4. SQL"
   ]
  },
  {
   "cell_type": "markdown",
   "metadata": {},
   "source": [
    "## Data Science Libraries\r\n",
    "\r\n",
    "Some of the commonly used libraries used by Data Scientists include:\r\n",
    "1. pandas\r\n",
    "2. numpy\r\n",
    "3. matplotlib and seaborn\r\n",
    "4. scikit-learn\r\n",
    "5. keras\r\n",
    "6. TensorFlow\r\n",
    "7. PyTorch\r\n",
    "8. ApacheSpark"
   ]
  },
  {
   "cell_type": "markdown",
   "metadata": {},
   "source": [
    "## Data Science Tools\r\n",
    "\r\n",
    "Three development environment open source tools used in data science.\r\n",
    "\r\n",
    "| Data Science Tools |\r\n",
    "|:-------------------|\r\n",
    "| jupyter, jupyter lab |\r\n",
    "| RStudio |\r\n",
    "| Spyder |\r\n"
   ]
  },
  {
   "cell_type": "markdown",
   "metadata": {},
   "source": [
    "## Arithmetic expressions\r\n",
    "\r\n",
    "### Below are a few examples of evaluating arithmetic expressions in Python\r\n",
    "\r\n",
    "\r\n",
    "- Addition\r\n",
    "```python\r\n",
    "x = 3 + 4\r\n",
    "```\r\n",
    "\r\n",
    "- Subtraction\r\n",
    "```python\r\n",
    "x = 3 - 4\r\n",
    "```\r\n",
    "\r\n",
    "- Multiplication\r\n",
    "```python\r\n",
    "x = 3 * 4\r\n",
    "```\r\n",
    "\r\n",
    "- Division\r\n",
    "```python\r\n",
    "x = 12 / 4\r\n",
    "```"
   ]
  },
  {
   "cell_type": "code",
   "execution_count": 1,
   "metadata": {},
   "outputs": [
    {
     "data": {
      "text/plain": "17"
     },
     "execution_count": 1,
     "metadata": {},
     "output_type": "execute_result"
    }
   ],
   "source": [
    "def magic_expression(x1 = 3, x2 = 4, x3 = 5):\r\n",
    "    return(x1*x2+x3)\r\n",
    "\r\n",
    "magic_expression()"
   ]
  },
  {
   "cell_type": "code",
   "execution_count": 15,
   "metadata": {},
   "outputs": [
    {
     "name": "stdout",
     "output_type": "stream",
     "text": [
      "200 minutes = 3.3333333333333335 hours\n",
      "200 minutes = 12000.0 seconds\n"
     ]
    }
   ],
   "source": [
    "import numpy as np\r\n",
    "\r\n",
    "def magic_converter(t, unit_in = 'm', unit_out = 'h'):\r\n",
    "    '''\r\n",
    "    magic time range converter function\r\n",
    "\r\n",
    "    Parameters\r\n",
    "    -------------\r\n",
    "    t : float\r\n",
    "        time range value as\r\n",
    "    \r\n",
    "    unit_in : string, optional\r\n",
    "        time range input unit, by default \"m\" (minutes)\r\n",
    "    \r\n",
    "    unit_out : string, optional\r\n",
    "        time range input unit, by default \"h\" (hours)\r\n",
    "    \r\n",
    "    Returns\r\n",
    "    ----------\r\n",
    "    converted time range as float value\r\n",
    "    '''\r\n",
    "\r\n",
    "    x = np.timedelta64(t, unit_in)\r\n",
    "    y = np.timedelta64(1, unit_out)\r\n",
    "    return(x/y)\r\n",
    "\r\n",
    "time_in_minutes = 200\r\n",
    "# This will convert 200 minutes to hours \r\n",
    "print(f'{time_in_minutes} minutes = {magic_converter(time_in_minutes)} hours')\r\n",
    "# This will convert 200 minutes to seconds \r\n",
    "print(f'{time_in_minutes} minutes = {magic_converter(time_in_minutes, unit_out=\"s\")} seconds')"
   ]
  }
 ],
 "metadata": {
  "kernelspec": {
   "display_name": "Python 3.8.4 64-bit",
   "metadata": {
    "interpreter": {
     "hash": "2006dc723c1314f931dacff5770404e885d5e6c6b7f1b8904144fe93ba9d5ac8"
    }
   },
   "name": "python3"
  },
  "language_info": {
   "codemirror_mode": {
    "name": "ipython",
    "version": 3
   },
   "file_extension": ".py",
   "mimetype": "text/x-python",
   "name": "python",
   "nbconvert_exporter": "python",
   "pygments_lexer": "ipython3",
   "version": "3.8.4"
  },
  "orig_nbformat": 2
 },
 "nbformat": 4,
 "nbformat_minor": 2
}
